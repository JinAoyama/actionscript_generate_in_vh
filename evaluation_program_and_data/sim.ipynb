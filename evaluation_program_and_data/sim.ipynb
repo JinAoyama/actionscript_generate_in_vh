{
 "cells": [
  {
   "cell_type": "markdown",
   "metadata": {},
   "source": [
    "Simlator(%) (execute rate)"
   ]
  },
  {
   "cell_type": "code",
   "execution_count": null,
   "metadata": {},
   "outputs": [],
   "source": [
    "import sys\n",
    "import csv\n",
    "\n",
    "# Unity Communication\n",
    "sys.path.append('../simulation/')\n",
    "from unity_simulator.comm_unity import UnityCommunication\n",
    "comm = UnityCommunication()\n",
    "scene_num = 1 #Select a scene (1~7) to experiment\n",
    "comm.reset(scene_num-1)"
   ]
  },
  {
   "cell_type": "code",
   "execution_count": 6,
   "metadata": {},
   "outputs": [],
   "source": [
    "def unity_reset():\n",
    "    comm = UnityCommunication()\n",
    "    comm.reset(scene_num-1)\n",
    "    comm.add_character('Chars/male1')"
   ]
  },
  {
   "cell_type": "code",
   "execution_count": 7,
   "metadata": {},
   "outputs": [],
   "source": [
    "def unity_simulate(action_script):\n",
    "    success, message = comm.render_script(script=action_script, find_solution=True, skip_execution=True)\n",
    "    return success"
   ]
  },
  {
   "cell_type": "code",
   "execution_count": 8,
   "metadata": {},
   "outputs": [],
   "source": [
    "import json\n",
    "\n",
    "with open(\"\", \"r\") as json_file: #Enter the path to the generated file\n",
    "    data = json.load(json_file)"
   ]
  },
  {
   "cell_type": "code",
   "execution_count": null,
   "metadata": {},
   "outputs": [],
   "source": [
    "count = 0\n",
    "\n",
    "for k, v in data.items():\n",
    "    print(k)\n",
    "    unity_reset()\n",
    "        \n",
    "    success = unity_simulate(v)\n",
    "        \n",
    "    if success == True:\n",
    "            count += 1\n",
    "\n",
    "print(count/len(data))"
   ]
  }
 ],
 "metadata": {
  "kernelspec": {
   "display_name": "VH",
   "language": "python",
   "name": "vh"
  },
  "language_info": {
   "codemirror_mode": {
    "name": "ipython",
    "version": 3
   },
   "file_extension": ".py",
   "mimetype": "text/x-python",
   "name": "python",
   "nbconvert_exporter": "python",
   "pygments_lexer": "ipython3",
   "version": "3.8.16"
  },
  "orig_nbformat": 4
 },
 "nbformat": 4,
 "nbformat_minor": 2
}
