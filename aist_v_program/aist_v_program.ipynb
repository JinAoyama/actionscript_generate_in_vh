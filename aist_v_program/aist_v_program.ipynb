{
 "cells": [
  {
   "cell_type": "markdown",
   "metadata": {},
   "source": [
    "Initialize"
   ]
  },
  {
   "cell_type": "code",
   "execution_count": 1,
   "metadata": {},
   "outputs": [
    {
     "name": "stdout",
     "output_type": "stream",
     "text": [
      "action list: ['find', 'walk', 'walk towards', 'walk forward', 'run', 'sit', 'stand up', 'grab', 'open', 'close', 'put back', 'put in', 'switch on', 'switch off', 'drink', 'turn to', 'look at', 'wipe', 'read', 'pour', 'type', 'squeeze', 'cut', 'eat', 'brush', 'fold', 'jump', 'kneel', 'lift', 'rinse', 'scrub', 'squat', 'stretch', 'sweep', 'throw', 'unfold', 'wrap', 'write', 'fall', 'fall sit', 'climb', 'stand', 'straddle', 'leg opp', 'shake', 'soak', 'talk', 'text', 'jump up', 'jump down', 'stir', 'vacuum', 'go down']\n",
      "object list: ['apple', 'bananas', 'barsoap', 'bathroomcabinet', 'bathroomcounter', 'bathtub', 'bed', 'bellpepper', 'bench', 'book', 'bookshelf', 'box', 'breadslice', 'cabinet', 'candle', 'candybar', 'ceiling', 'ceilinglamp', 'cellphone', 'cereal', 'chair', 'chicken', 'chips', 'chocolatesyrup', 'clock', 'closet', 'closetdrawer', 'clothespants', 'clothespile', 'clothesshirt', 'coffeemaker', 'coffeepot', 'coffeetable', 'computer', 'condimentbottle', 'condimentshaker', 'cpuscreen', 'crackers', 'creamybuns', 'cupcake', 'curtains', 'cutleryfork', 'cutleryknife', 'deodorant', 'desk', 'dishbowl', 'dishwashingliquid', 'door', 'doorjamb', 'facecream', 'faucet', 'floor', 'folder', 'fridge', 'fryingpan', 'garbagecan', 'hairproduct', 'hanger', 'keyboard', 'kitchencabinet', 'kitchencounter', 'kitchencounterdrawer', 'kitchentable', 'lightswitch', 'lime', 'microwave', 'milk', 'mouse', 'mousemat', 'mug', 'nightstand', 'orchid', 'oventray', 'painkillers', 'paper', 'peach', 'perfume', 'photoframe', 'pie', 'pillow', 'plate', 'plum', 'powersocket', 'radio', 'remotecontrol', 'rug', 'salad', 'salmon', 'sink', 'slippers', 'sofa', 'stall', 'stove', 'stovefan', 'tablelamp', 'toaster', 'toilet', 'toothbrush', 'toothpaste', 'towel', 'towelrack', 'tv', 'tvstand', 'wall', 'walllamp', 'wallphone', 'wallpictureframe', 'wallshelf', 'washingmachine', 'washingsponge', 'waterglass', 'whippedcream', 'window', 'wineglass']\n",
      "room list: ['bathroom', 'bedroom', 'kitchen', 'livingroom']\n"
     ]
    }
   ],
   "source": [
    "import sys\n",
    "import csv\n",
    "\n",
    "# Unity Communication\n",
    "sys.path.append('../simulation/')\n",
    "from unity_simulator.comm_unity import UnityCommunication\n",
    "comm = UnityCommunication()\n",
    "scene_num = 1\n",
    "comm.reset(scene_num-1)\n",
    "\n",
    "# Action\n",
    "action_list = []\n",
    "arg0_action = []\n",
    "arg1_action = []\n",
    "arg2_action = []\n",
    "\n",
    "csv_file_path = \"./aist_action.csv\"\n",
    "with open(csv_file_path, 'r', newline='') as csv_file:\n",
    "    f = csv.reader(csv_file)\n",
    "\n",
    "    for row in f:\n",
    "        action_list.append(row[0].lower())\n",
    "        if int(row[1]) == 0:\n",
    "            arg0_action.append(row[0].lower())\n",
    "        elif int(row[1]) == 1:\n",
    "            arg1_action.append(row[0].lower())\n",
    "        else:\n",
    "            arg2_action.append(row[0].lower())\n",
    "\n",
    "print(f\"action list: {action_list}\")\n",
    "\n",
    "# Object and Room\n",
    "s, graph = comm.environment_graph()\n",
    "nodes = graph['nodes']\n",
    "edges = graph['edges']\n",
    "\n",
    "object_list = []\n",
    "object_property = {}\n",
    "room_list = []\n",
    "\n",
    "for n in nodes:\n",
    "    if n.get(\"category\") == \"Rooms\":\n",
    "        room_list.append(n.get(\"class_name\"))\n",
    "    else:\n",
    "        object_list.append(n.get(\"class_name\"))\n",
    "        object_property[n.get(\"class_name\")] = n.get(\"properties\")\n",
    "\n",
    "object_list = sorted(list(set(object_list)))\n",
    "\n",
    "print(f\"object list: {object_list}\")\n",
    "print(f\"room list: {room_list}\")"
   ]
  },
  {
   "cell_type": "markdown",
   "metadata": {},
   "source": [
    "LLM"
   ]
  },
  {
   "cell_type": "code",
   "execution_count": 2,
   "metadata": {},
   "outputs": [],
   "source": [
    "import openai\n",
    "\n",
    "API_KEY = \"\" #Please insert open ai api key\n",
    "openai.api_key = API_KEY"
   ]
  },
  {
   "cell_type": "code",
   "execution_count": 3,
   "metadata": {},
   "outputs": [],
   "source": [
    "def rewrite_description(description):\n",
    "    response = openai.ChatCompletion.create(\n",
    "        model=\"gpt-3.5-turbo\",\n",
    "        messages=[\n",
    "            {\"role\": \"system\", \"content\": \"\"\"\n",
    "            Using only my definitions of \"Available Actions\" and \"Available Objects\", Rewrite the description of activity entered by the user as a comma-separated action plans.\n",
    "             \n",
    "             Warnings:\n",
    "             1. Do not omit the object to the action, do not use anaphoric pronouns.\n",
    "             2. Abstract descriptions will also be rewritten into detailed action plans.\n",
    "             \"\"\"},\n",
    "\n",
    "            {\"role\": \"assistant\", \"content\": f\"\"\"\n",
    "            Definition of available actions and available objects:\n",
    "            Available Action: {action_list}\n",
    "            Available Objects: {room_list + object_list}\n",
    "            \n",
    "            \"\"\"},\n",
    "\n",
    "            {\"role\": \"user\", \"content\": f\"{description}\"}\n",
    "        ]\n",
    "    )\n",
    "\n",
    "    candidate = response[\"choices\"][0][\"message\"][\"content\"].split(\"\\n\")\n",
    "\n",
    "    return candidate[0]"
   ]
  },
  {
   "cell_type": "markdown",
   "metadata": {},
   "source": [
    "Sentence Transformers"
   ]
  },
  {
   "cell_type": "code",
   "execution_count": 4,
   "metadata": {},
   "outputs": [],
   "source": [
    "from sentence_transformers import SentenceTransformer, util\n",
    "model = SentenceTransformer('sentence-transformers/all-MiniLM-L6-v2')"
   ]
  },
  {
   "cell_type": "code",
   "execution_count": 5,
   "metadata": {},
   "outputs": [],
   "source": [
    "all_combination_dic = {}\n",
    "grab_action = [\"grab\", \"brush\", \"lift\", \"sweep\", \"throw\", \"unfold\", \"wrap\", \"write\", \"shake\", \"soak\", \"talk\", \"text\"]\n",
    "\n",
    "for room in room_list:\n",
    "    all_combination_dic[f\"walk {room}\"] = f\"<char0> [walk] <{room}> (1)\"\n",
    "\n",
    "for action in action_list:\n",
    "    if action in arg0_action:\n",
    "        all_combination_dic[f\"{action}\"] = f\"<char0> [{action}]\"\n",
    "\n",
    "    # sittable\n",
    "    elif action == \"sit\" or action == \"fall sit\":\n",
    "        for obj in object_list:\n",
    "            if \"SITTABLE\" in object_property.get(obj):\n",
    "                all_combination_dic[f\"{action} {obj}\"] = f\"\"\"<char0> [{str(action).replace(\" \",\"\")}] <{obj}> (1)\"\"\"\n",
    "    # grabable\n",
    "    elif action in grab_action:\n",
    "        for obj in object_list: \n",
    "            if \"GRABBABLE\" in object_property.get(obj):\n",
    "                all_combination_dic[f\"{action} {obj}\"] = f\"\"\"<char0> [{str(action).replace(\" \",\"\")}] <{obj}> (1)\"\"\"\n",
    "    # openable\n",
    "    elif action == \"open\" or action == \"close\":\n",
    "        for obj in object_list: \n",
    "            if \"CAN_OPEN\" in object_property.get(obj):\n",
    "                all_combination_dic[f\"{action} {obj}\"] = f\"<char0> [{action}] <{obj}> (1)\"\n",
    "    # has_switch\n",
    "    elif action == \"switch on\" or action == \"switch off\" or action == \"type\":\n",
    "        for obj in object_list: \n",
    "            if \"HAS_SWITCH\" in object_property.get(obj):\n",
    "                all_combination_dic[f\"{action} {obj}\"] = f\"\"\"<char0> [{str(action).replace(\" \",\"\")}] <{obj}> (1)\"\"\"\n",
    "    # drink\n",
    "    elif action == \"drink\":\n",
    "        for obj in object_list: \n",
    "            if \"RECIPIENT\" in object_property.get(obj) or \"DRINKABLE\" in object_property.get(obj):\n",
    "                all_combination_dic[f\"drink {obj}\"] = f\"<char0> [drink] <{obj}> (1)\"\n",
    "    # put back\n",
    "    elif action == \"put back\":\n",
    "        for obj1 in object_list: \n",
    "            if \"GRABBABLE\" in object_property.get(obj1):\n",
    "                all_combination_dic[f\"put back {obj1}\"] = f\"<char0> [putobjback] <{obj1}> (1)\"\n",
    "                for obj2 in object_list: \n",
    "                    if \"SURFACES\" in object_property.get(obj2):\n",
    "                        all_combination_dic[f\"put {obj1} back {obj2}\"] = f\"<char0> [putback] <{obj1}> (1) <{obj2}> (1)\"\n",
    "    # put in\n",
    "    elif action == \"put in\":\n",
    "        for obj1 in object_list: \n",
    "            if \"GRABBABLE\" in object_property.get(obj1):\n",
    "                for obj2 in object_list: \n",
    "                    if \"CONTAINERS\" in object_property.get(obj2):\n",
    "                        all_combination_dic[f\"put {obj1} in {obj2}\"] = f\"<char0> [putin] <{obj1}> (1) <{obj2}> (1)\"\n",
    "    # eat\n",
    "    elif action == \"eat\":\n",
    "        for obj in object_list: \n",
    "            if \"EATABLE\" in object_property.get(obj):\n",
    "                all_combination_dic[f\"eat {obj}\"] = f\"<char0> [eat] <{obj}> (1)\"\n",
    "    # read\n",
    "    elif action == \"read\":\n",
    "        for obj in object_list: \n",
    "            if \"READABLE\" in object_property.get(obj):\n",
    "                all_combination_dic[f\"read {obj}\"] = f\"<char0> [read] <{obj}> (1)\" \n",
    "    # wipe\n",
    "    elif action == \"wipe\":\n",
    "        for obj1 in object_list: \n",
    "            if \"GRABBABLE\" in object_property.get(obj1):\n",
    "                for obj2 in object_list:\n",
    "                    all_combination_dic[f\"wipe {obj2} with {obj1}\"] = f\"<char0> [wipe] <{obj1}> (1) <{obj2}> (1)\"\n",
    "    # pour\n",
    "    elif action == \"pour\":\n",
    "        for obj1 in object_list: \n",
    "            if \"POURABLE\" in object_property.get(obj1) or \"DRINKABLE\" in object_property.get(obj1):\n",
    "                for obj2 in object_list:\n",
    "                    if \"RECIPIENT\" in object_property.get(obj2):\n",
    "                        all_combination_dic[f\"pour {obj1} into {obj2}\"] = f\"<char0> [pour] <{obj1}> (1) <{obj2}> (1)\"\n",
    "    # scrub\n",
    "    elif action == \"scrub\":\n",
    "        for obj1 in object_list: \n",
    "            for obj2 in object_list:\n",
    "                all_combination_dic[f\"scrub {obj1} {obj2}\"] = f\"<char0> [scrub] <{obj1}> (1) <{obj2}> (1)\"\n",
    "\n",
    "    # cut\n",
    "    elif action == \"cut\":\n",
    "        for obj1 in object_list: \n",
    "            if \"CUTTABLE\" in object_property.get(obj1):\n",
    "                for obj2 in object_list:\n",
    "                    if \"EATABLE\" in object_property.get(obj2):\n",
    "                        all_combination_dic[f\"cut {obj2} with {obj1}\"] = f\"<char0> [cut] <{obj1}> (1) <{obj2}> (1)\"\n",
    "    # squeeze\n",
    "    elif action == \"squeeze\":\n",
    "        for obj in object_list: \n",
    "            if \"CLOTHES\" in object_property.get(obj):\n",
    "                all_combination_dic[f\"squeeze {obj}\"] = f\"<char0> [squeeze] <{obj}> (1)\"\n",
    "    # climb\n",
    "    elif action == \"climb\":\n",
    "        for obj in object_list: \n",
    "            if obj == \"coffeetable\" or obj == \"bed\":\n",
    "                all_combination_dic[f\"climb {obj}\"] = f\"<char0> [climb] <{obj}> (1)\"\n",
    "\n",
    "    else:\n",
    "        for obj in object_list:\n",
    "            all_combination_dic[f\"{action} {obj}\"] = f\"\"\"<char0> [{str(action).replace(\" \",\"\")}] <{obj}> (1)\"\"\"\n",
    "\n",
    "all_combination = [k for k in all_combination_dic.keys()]\n",
    "\n",
    "embeddings = model.encode(all_combination)"
   ]
  },
  {
   "cell_type": "code",
   "execution_count": 6,
   "metadata": {},
   "outputs": [],
   "source": [
    "def sentence_cosine_similarity(sentence):\n",
    "\n",
    "    cos_sim = util.cos_sim(model.encode(sentence), embeddings)[0]\n",
    "\n",
    "    all_sentence_combinations = []\n",
    "    for i in range(len(cos_sim)-1):\n",
    "        all_sentence_combinations.append([cos_sim[i], i])\n",
    "\n",
    "    all_sentence_combinations = sorted(all_sentence_combinations, key=lambda x: x[0], reverse=True)     \n",
    "    \n",
    "    return all_combination[all_sentence_combinations[0][1]]"
   ]
  },
  {
   "cell_type": "markdown",
   "metadata": {},
   "source": [
    "Verification"
   ]
  },
  {
   "cell_type": "code",
   "execution_count": 7,
   "metadata": {},
   "outputs": [],
   "source": [
    "def unity_reset():\n",
    "    comm.reset(scene_num-1)\n",
    "    comm.add_character('Chars/male1')\n",
    "    success, graph = comm.environment_graph()"
   ]
  },
  {
   "cell_type": "code",
   "execution_count": 8,
   "metadata": {},
   "outputs": [],
   "source": [
    "def unity_simulate(action_script):\n",
    "    unity_reset()\n",
    "    success, message = comm.render_script(script=action_script, find_solution=True, skip_execution=True)\n",
    "    return success, message"
   ]
  },
  {
   "cell_type": "code",
   "execution_count": 9,
   "metadata": {},
   "outputs": [],
   "source": [
    "def run_verification(action_script):\n",
    "    success, message = unity_simulate(action_script)\n",
    "    if success == True:\n",
    "        return action_script\n",
    "    \n",
    "    action_history = []\n",
    "    for next in action_script:\n",
    "        try:\n",
    "            success, message = unity_simulate(action_history + [next])\n",
    "        \n",
    "            if success == False and type(message) is str:\n",
    "                pass\n",
    "\n",
    "            elif success == False and (message.get('0').get('message').find(\"Not found object\") != -1 or message.get('0').get('message').find(\"Can not select object\") != -1):\n",
    "\n",
    "                additional_action = [(next).replace(next.split()[1], \"[walk]\")]\n",
    "                additional_action.append(next)\n",
    "            \n",
    "                success, message = unity_simulate(action_history + additional_action)\n",
    "                if success == True:\n",
    "                    action_history = action_history + additional_action\n",
    "\n",
    "            elif success == True:\n",
    "                action_history.append(next)\n",
    "        \n",
    "        except:\n",
    "            print(\"Exception\")\n",
    "\n",
    "    return action_history"
   ]
  },
  {
   "cell_type": "markdown",
   "metadata": {},
   "source": [
    "Action Script Generation"
   ]
  },
  {
   "cell_type": "code",
   "execution_count": 10,
   "metadata": {},
   "outputs": [],
   "source": [
    "def action_plan_generation(description):\n",
    "    rewrited_description = rewrite_description(description)\n",
    "    action_plan = rewrited_description.split(\",\")\n",
    "\n",
    "    action_script = [all_combination_dic.get(sentence_cosine_similarity(row)) for row in action_plan]\n",
    "\n",
    "    return run_verification(action_script)"
   ]
  },
  {
   "cell_type": "code",
   "execution_count": null,
   "metadata": {},
   "outputs": [],
   "source": [
    "action_description = 'go to livingroom and sit on the sofa'\n",
    "action_plan_generation(action_description)"
   ]
  }
 ],
 "metadata": {
  "kernelspec": {
   "display_name": "aist",
   "language": "python",
   "name": "aist"
  },
  "language_info": {
   "codemirror_mode": {
    "name": "ipython",
    "version": 3
   },
   "file_extension": ".py",
   "mimetype": "text/x-python",
   "name": "python",
   "nbconvert_exporter": "python",
   "pygments_lexer": "ipython3",
   "version": "3.8.17"
  }
 },
 "nbformat": 4,
 "nbformat_minor": 2
}
